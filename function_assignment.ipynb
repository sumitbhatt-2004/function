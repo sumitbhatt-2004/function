{
  "nbformat": 4,
  "nbformat_minor": 0,
  "metadata": {
    "colab": {
      "provenance": []
    },
    "kernelspec": {
      "name": "python3",
      "display_name": "Python 3"
    },
    "language_info": {
      "name": "python"
    }
  },
  "cells": [
    {
      "cell_type": "markdown",
      "source": [
        "**Function assignments**"
      ],
      "metadata": {
        "id": "EtNRuUos81sJ"
      }
    },
    {
      "cell_type": "markdown",
      "source": [
        "What is the difference between a function and a method in python?\n",
        "solution: FUNCTION: A Function is a block of reusable code that perform a specific task. it can be defined outside of any class and called on its own .\n",
        "\n",
        " Method : A method is a function that is associated with object as a class we can say. it is also defined inside a class and can operate on the data contained within that class.\n",
        "\n",
        " for example"
      ],
      "metadata": {
        "id": "U0bHya6x84Rr"
      }
    },
    {
      "cell_type": "code",
      "source": [
        "# function example\n",
        "def greet(name): # this is a funtion\n",
        "return f\"Hello,{name}!\"\n",
        "\n",
        "# Method example\n",
        "class Greeter:\n",
        "  def greet(self,name):#this is a method\n",
        "    return f\"Hello,{name}!\""
      ],
      "metadata": {
        "id": "TJPfw8FW8zUA"
      },
      "execution_count": null,
      "outputs": []
    },
    {
      "cell_type": "markdown",
      "source": [
        "Qustion 2 function arguments and parameters\n",
        "\n",
        "solution : **arguments** are the actual values you pass to the function or method when you call it.\n",
        "\n",
        "**parameters** are the variable that you define in the function or method definition. they act like placeholder for the values you will pass to the function.\n",
        "\n",
        "in the example given below\n",
        "\n",
        "\n",
        "*   a and b are parameters of the add_numbers function.\n",
        "*   when we call add_number(2,5) , 2 and 5 are the arguments we are passing to the function.\n",
        "\n",
        "\n",
        "\n",
        "\n",
        "\n",
        "\n",
        "---\n",
        "\n"
      ],
      "metadata": {
        "id": "hE6iPFOK8wIk"
      }
    },
    {
      "cell_type": "code",
      "execution_count": null,
      "metadata": {
        "id": "IpqTa9yB7Ldd"
      },
      "outputs": [],
      "source": [
        "defadd_numbers(a,b): # a and b are the parameters\n",
        "return a+b\n",
        "result=add_numbers(2,5) # 2 and 5 are arguments\n",
        "print(result) # output will be 7"
      ]
    },
    {
      "cell_type": "markdown",
      "source": [
        "Question 3 What are the different way to define and call a function in python?\n",
        "\n",
        "solution : defining a function\n",
        " in python , you can define a function using the **def** this keywords followed by the function name and parentheses. inside the parentheses you can specify parameters.\n",
        "\n",
        "calling a functions\n",
        "To call a function simply use the function name followed by parentheses if the function has parameters you pass the corresponding arguments inside the parentheses ."
      ],
      "metadata": {
        "id": "Ser0DIN48sgo"
      }
    },
    {
      "cell_type": "code",
      "source": [
        "defsay_hello():# no parameters this is a example of definition\n",
        "print(\"hello!\")\n",
        "\n",
        "say_hello() # calls the function , output will be \"hello!\""
      ],
      "metadata": {
        "id": "Wtm-kjBHFJYS"
      },
      "execution_count": null,
      "outputs": []
    },
    {
      "cell_type": "markdown",
      "source": [
        "Question 4 what is the purpose of the `return` statements\n",
        "\n",
        "solution The `return` statements is used in a function to send a value back to the place where the function was called it helps you get results from a function .\n",
        "\n",
        "when you call the functions `add(3,4)` it will give you 7 back as the results ."
      ],
      "metadata": {
        "id": "Kn5sl29OI9dW"
      }
    },
    {
      "cell_type": "code",
      "source": [
        "def add(a,b):\n",
        "  return a+b #sends back the sum of a and b"
      ],
      "metadata": {
        "id": "ILFng2ZGKMpH"
      },
      "execution_count": null,
      "outputs": []
    },
    {
      "cell_type": "markdown",
      "source": [
        "Question 5 what are Iterators in python and how do they differs from Iterables?\n",
        "\n",
        "solution:  Iterables are objects that can be looped over or iterated thorugh like lists tuples, and strings you can use a **`for`** loop on them.\n",
        "\n",
        "Iterators are objects that  represent a streams of data and they keep tracks of the current position in the data they have method like\n",
        "---iter--() and\n",
        "--next--() this is used to next elements\n",
        "\n",
        "the keydifferences are : all iterators are iterable but not all iterables are iterators. you can get an iterator from an iterable using the\n",
        "\n",
        "int() function .\n"
      ],
      "metadata": {
        "id": "PpF1TQfcKjQa"
      }
    },
    {
      "cell_type": "code",
      "source": [
        "my_list[1,2,3]\n",
        "my_iterator=iter(my_list)# create an iterator\n",
        "\n",
        "print(next(my_iterator)) # output:1\n",
        "print(next(my_iterator)) # output:2\n"
      ],
      "metadata": {
        "id": "CCbI6x4kKh5R"
      },
      "execution_count": null,
      "outputs": []
    },
    {
      "cell_type": "markdown",
      "source": [
        "Question 6 : explain the concepts of genenrators in python and how they are defined\n",
        "\n",
        "solution: they are special type of iterator in python that allow you to create an iterator in a simpler way using the **`yield`** statements instead of `return` when a generators function is called it doesn't run the code right way it return a generators objects that can be used to execute the code.\n",
        "\n",
        "how can we define so to define a generators you create a function like a regular function like a regular function but use `yield` to yield values one at a time.\n",
        "in the example given below count_up_to in a generators function that yield numbers one at a time until it reaches **`n`**\n"
      ],
      "metadata": {
        "id": "-UEM6sObNYKR"
      }
    },
    {
      "cell_type": "code",
      "source": [
        "def count_up_to(n):\n",
        "  count=1\n",
        "  while count<=n:\n",
        "    yield count # yielding the next value\n",
        "    count +=1"
      ],
      "metadata": {
        "id": "lkTp12uxPvnP"
      },
      "execution_count": null,
      "outputs": []
    },
    {
      "cell_type": "markdown",
      "source": [
        "Question 7 what are the advantages of using generators over regular function?\n",
        "\n",
        " solution: there are several benefits of using generators as we compared to regular function:\n",
        "\n",
        "\n",
        "*   **Memory efficency :** generators generates value on the fly without storing the entire in memory . this is useful for large datasets.\n",
        "*  **lazy Evaluation:** generators produce values only when they are needed . this means they can starts producing output before all data is ready .\n",
        "\n",
        "\n",
        "*   **less code**: you can create complex iterators using less code with generators using less code with generators than with generators than with classes implementing the iterator protocol.\n",
        "* **Infinite sequence :** generators can represent infinite sequence without running out of memeory since they yield one value at a time .\n",
        "\n",
        "\n",
        "\n",
        "\n"
      ],
      "metadata": {
        "id": "UUU0dl1RNX7c"
      }
    },
    {
      "cell_type": "markdown",
      "source": [
        "Question what is a lambda function in python and when is it typically used ?\n",
        "\n",
        "solutin: A lambda function is a small anonymous function defined as `lambda` keywords. it can take any number of arguments but can onl have one expression it is often used for short,  throwaway function that are not needed elsewhere.\n",
        "\n",
        " uses\n",
        "\n",
        "\n",
        "* when you need a function briefly and don't want to formally define a full function using `def`\n",
        "\n",
        "*   often used in function like `map()` , `filter()` , and `sorted`() where a simple function is required.\n",
        "\n",
        "\n"
      ],
      "metadata": {
        "id": "y9-4ydipTGNH"
      }
    },
    {
      "cell_type": "markdown",
      "source": [
        "Question 9 explain the purpose and usage of the `map()` function in python ?\n",
        "\n",
        "solution: The map() function is used to apply a specified function to every item in an iterable (like a list or tuple) and return an iterator with the results.\n",
        "\n",
        "usage:\n",
        "its useful when you want to transform all item in an iterable without using a loop.\n"
      ],
      "metadata": {
        "id": "JWxY3cpxTYtz"
      }
    },
    {
      "cell_type": "markdown",
      "source": [
        "Question 10 - Difference between `map()`  `reduce()` and `filter()` function in python\n",
        "\n",
        "solution: `map()`: it is applicable to all items in an iterable and return an iterator of results for example : transforming elements in a list\n",
        "\n",
        "`filter()` it filters elements of an iterable based on a function that returns `true` or `false` . it also iterator with only the elements that meet the condition.\n",
        "\n",
        "`reduce()` it appllies a binary function cumulatively to the items of an iterable , reducing it to a single value\n",
        "\n"
      ],
      "metadata": {
        "id": "D5h8qByWTYLj"
      }
    },
    {
      "cell_type": "code",
      "source": [
        "numbers = [1,2,3,4]\n",
        "# Map number\n",
        "squared = list(map(lambda x:x**2,numbers))\n",
        "#output :[ 1,4,9,16]\n",
        "# Filter example\n",
        "evens =list(filter(lambdax:x%2==0,numbers))\n",
        "#output [2,4]\n",
        "# Reduce example\n",
        "products = reduce (lambda x,y:x*y,numbers)\n",
        "# output [1*2*3*4]"
      ],
      "metadata": {
        "id": "pfArvHSoYOpr"
      },
      "execution_count": null,
      "outputs": []
    },
    {
      "cell_type": "markdown",
      "source": [
        "# **pratical question:**"
      ],
      "metadata": {
        "id": "XLj8gB9QZrDj"
      }
    },
    {
      "cell_type": "markdown",
      "source": [
        "Question 1 : WRITE A PYTHON FUNCTION THAT TAKES A LIST OF NUMBER AS INPUT AND RETURN THE SUM F ALL EVEN NUMBER INTHE LIST ."
      ],
      "metadata": {
        "id": "P-Er4wjkxS9K"
      }
    },
    {
      "cell_type": "code",
      "source": [
        "# solution 1\n",
        "def sum_of_even_numbers(numbers): # return the sum of all even number in the given list\n",
        "  total = 0 # initialize total to 0\n",
        "  for num in numbers: # Loop through each number in the list\n",
        "    if num%2==0:\n",
        "      total+=num # add even number to total\n",
        "  return total # return the total sum of even numbers\n",
        "  # example\n",
        "  number_list=[1,2,3,4,5,6]\n",
        "  result=sum_of_even_numbers(number_list)\n",
        "  print(result)# output will be 12\n",
        "\n"
      ],
      "metadata": {
        "id": "NOW7qQPixG62"
      },
      "execution_count": null,
      "outputs": []
    },
    {
      "cell_type": "markdown",
      "source": [
        "Question 2: create a python function that accepts a string and returns the reverse of that string.  "
      ],
      "metadata": {
        "id": "QtSXHPxDx1VM"
      }
    },
    {
      "cell_type": "code",
      "source": [
        "def reverse_string(input_string):\n",
        "  \"\"\"returns the reverse of the given string.\"\"\"\n",
        "  reversed_string = reverse_string(input_string)\n",
        "  print(reversed_string) # output will be"
      ],
      "metadata": {
        "id": "KlkFf02JaTDc"
      },
      "execution_count": null,
      "outputs": []
    },
    {
      "cell_type": "markdown",
      "source": [
        "Question 3: Implement a python function that takes a list of integers and returns a new list containing the squares of each number."
      ],
      "metadata": {
        "id": "U3WtbBZFzdI3"
      }
    },
    {
      "cell_type": "code",
      "source": [
        "def squares_of_numbers(numbers):\n",
        " return[num**2 for num in numbers]\n",
        "# example\n",
        "input_list =[1,2,3,4,5]\n",
        "squared_list = squares_of_numbers(input_list)\n",
        "print(squared_list)"
      ],
      "metadata": {
        "id": "ROyslN1O1ewZ"
      },
      "execution_count": null,
      "outputs": []
    },
    {
      "cell_type": "markdown",
      "source": [
        "Question 4 : write a python function that checks if a given number is prime or not from 1 to 200"
      ],
      "metadata": {
        "id": "sGsy4tXr1kX9"
      }
    },
    {
      "cell_type": "code",
      "source": [
        "def is_prime(num):\n",
        "  if num < 2:\n",
        "    return False\n",
        "  for i in range(2, int(num**0.5)+1):\n",
        "    if num % i ==0:\n",
        "        return False\n",
        "  return True\n",
        "       # Example:\n",
        "  for number in range(1,201):\n",
        "          if is_prime(number):\n",
        "            print(f\"{number} is prime.\")"
      ],
      "metadata": {
        "id": "li4hJBf41jN9"
      },
      "execution_count": null,
      "outputs": []
    },
    {
      "cell_type": "markdown",
      "source": [
        "Question 5: create an iterator class in python that generates the Fibonacci sequence up to a specified number of terms."
      ],
      "metadata": {
        "id": "UzNso3sE5Biq"
      }
    },
    {
      "cell_type": "code",
      "source": [
        "class FibonacciIterator:\n",
        "    \"\"\"An iterator to generate Fibonacci numbers.\"\"\"\n",
        "\n",
        "    def __init__(self, terms):\n",
        "        self.terms = terms  # Number of terms in the Fibonacci sequence\n",
        "        self.a, self.b = 0, 1  # Starting values for Fibonacci sequence\n",
        "        self.count = 0  # Track the number of terms generated\n",
        "\n",
        "    def __iter__(self):\n",
        "        return self  # Return the iterator object\n",
        "\n",
        "    def __next__(self):\n",
        "        if self.count < self.terms:\n",
        "            fibonacci_number = self.a\n",
        "            self.a, self.b = self.b, self.a + self.b\n",
        "            self.count += 1  # Increment term count\n",
        "            return fibonacci_number\n",
        "        else:\n",
        "            raise StopIteration  # End of iteration\n",
        "\n",
        "# Example usage:\n",
        "fibonacci = FibonacciIterator(10)  # Create an iterator for the first 10 Fibonacci numbers\n",
        "for number in fibonacci:\n",
        "    print(number)  # Output: 0, 1, 1, 2, 3, 5, 8, 13, 21, 34\n"
      ],
      "metadata": {
        "id": "rFBeA61e5BE5"
      },
      "execution_count": null,
      "outputs": []
    },
    {
      "cell_type": "markdown",
      "source": [
        " Question 6 : Write a generator function in Python that yields the powers of 2 up to a given exponent."
      ],
      "metadata": {
        "id": "kWU8Bbns7d7Z"
      }
    },
    {
      "cell_type": "code",
      "source": [
        "def powers_of_2(exponent):\n",
        "    \"\"\"Generator that yields powers of 2 up to the given exponent.\"\"\"\n",
        "    for i in range(exponent + 1):  # Include the given exponent\n",
        "        yield 2 ** i  # Yield 2 raised to the power of i\n",
        "\n",
        "# Example usage:\n",
        "for power in powers_of_2(5):  # Generate powers of 2 up to the 5th exponent\n",
        "    print(power)  # Output: 1, 2, 4, 8, 16, 32\n"
      ],
      "metadata": {
        "id": "D0C4-D-S5Ain"
      },
      "execution_count": null,
      "outputs": []
    },
    {
      "cell_type": "markdown",
      "source": [
        "Question : Write a Python program that uses  `map()` to convert a list of temperatures from Celsius to Fahrenheit."
      ],
      "metadata": {
        "id": "dlPGJvnu7zka"
      }
    },
    {
      "cell_type": "code",
      "source": [
        "def celsius_to_fahrenheit(celsius):\n",
        "    \"\"\"Convert Celsius to Fahrenheit.\"\"\"\n",
        "    return (celsius * 9/5) + 32\n",
        "\n",
        "# List of temperatures in Celsius\n",
        "celsius_temperatures = [0, 20, 37, 100]\n",
        "\n",
        "# Using map() to convert to Fahrenheit\n",
        "fahrenheit_temperatures = list(map(celsius_to_fahrenheit, celsius_temperatures))\n",
        "\n",
        "# Example usage\n",
        "print(f\"Temperatures in Celsius: {celsius_temperatures}\")\n",
        "print(f\"Temperatures in Fahrenheit: {fahrenheit_temperatures}\")\n",
        "\n"
      ],
      "metadata": {
        "id": "Oei4Ws4r7yP6"
      },
      "execution_count": null,
      "outputs": []
    },
    {
      "cell_type": "markdown",
      "source": [
        "Question Create a Python program that uses `filter()` to remove all the vowels from a given string."
      ],
      "metadata": {
        "id": "dV-lzY299fXR"
      }
    },
    {
      "cell_type": "code",
      "source": [
        "def is_not_vowel(char):\n",
        "    \"\"\"Return True if the character is not a vowel.\"\"\"\n",
        "    return char.lower() not in 'aeiou'\n",
        "\n",
        "# Given string\n",
        "input_string = \"Hello, World!\"\n",
        "\n",
        "# Using filter() to remove vowels\n",
        "filtered_string = ''.join(filter(is_not_vowel, input_string))\n",
        "\n",
        "# Example usage\n",
        "print(f\"Original string: '{input_string}'\")\n",
        "print(f\"String without vowels: '{filtered_string}'\")\n"
      ],
      "metadata": {
        "id": "dSF4RYY_9d2Z"
      },
      "execution_count": null,
      "outputs": []
    },
    {
      "cell_type": "markdown",
      "source": [
        "Question Write a Python program using lambda and map."
      ],
      "metadata": {
        "id": "gdqoHuOU95OQ"
      }
    },
    {
      "cell_type": "code",
      "source": [
        "# List of numbers\n",
        "numbers = [1, 2, 3, 4, 5]\n",
        "\n",
        "# Using map() with a lambda function to square each number\n",
        "squared_numbers = list(map(lambda x: x ** 2, numbers))\n",
        "\n",
        "# Example usage\n",
        "print(f\"Original numbers: {numbers}\")\n",
        "print(f\"Squared numbers: {squared_numbers}\")\n"
      ],
      "metadata": {
        "colab": {
          "base_uri": "https://localhost:8080/"
        },
        "id": "8czsKSoB9dnj",
        "outputId": "c920758d-80a4-405e-eace-d556f63b3ff2"
      },
      "execution_count": 41,
      "outputs": [
        {
          "output_type": "stream",
          "name": "stdout",
          "text": [
            "Original numbers: [1, 2, 3, 4, 5]\n",
            "Squared numbers: [1, 4, 9, 16, 25]\n"
          ]
        }
      ]
    },
    {
      "cell_type": "markdown",
      "source": [
        "Question 11 solution"
      ],
      "metadata": {
        "id": "iaGAOKVR-4mN"
      }
    },
    {
      "cell_type": "code",
      "source": [
        "# Sample list of orders. Each order contains: [Order Number, Title, Quantity, Price per Item]\n",
        "orders = [\n",
        "    [34587, \"Learning Python, Mark Lutz\", 4, 40.95],\n",
        "    [98762, \"Programming Python, Mark Lutz\", 3, 56.80],\n",
        "    [77226, \"Head First Python, Paul Barry\", 3, 32.95],\n",
        "    [88112, \"Einführung in Python3, Bernd Klein\", 3, 24.99]\n",
        "]\n",
        "\n",
        "def process_orders(order_list):\n",
        "    \"\"\"Process the orders and return a list of 2-tuples with adjusted prices.\"\"\"\n",
        "    result = []\n",
        "\n",
        "    for order in order_list:\n",
        "        order_number, title, quantity, price_per_item = order\n",
        "        total_price = price_per_item * quantity\n",
        "\n",
        "        # If the total price is smaller than 100€, increase the price by 10€\n",
        "        if total_price < 100:\n",
        "            total_price += 10\n",
        "\n",
        "        # Create a tuple (Order Number, Total Price)\n",
        "        result.append((order_number, total_price))\n",
        "\n",
        "    return result\n",
        "\n",
        "# Example usage\n",
        "processed_orders = process_orders(orders)\n",
        "\n",
        "# Print the result\n",
        "print(\"Processed Orders:\")\n",
        "for order in processed_orders:\n",
        "    print(order)\n"
      ],
      "metadata": {
        "colab": {
          "base_uri": "https://localhost:8080/"
        },
        "id": "Z9arivp09dU2",
        "outputId": "5b08e197-4994-4471-aaa0-c099645e7641"
      },
      "execution_count": 42,
      "outputs": [
        {
          "output_type": "stream",
          "name": "stdout",
          "text": [
            "Processed Orders:\n",
            "(34587, 163.8)\n",
            "(98762, 170.39999999999998)\n",
            "(77226, 108.85000000000001)\n",
            "(88112, 84.97)\n"
          ]
        }
      ]
    },
    {
      "cell_type": "markdown",
      "source": [
        "Implement a generator function that reads a file line by line and yields each line as a string."
      ],
      "metadata": {
        "id": "DQJqZmVMAtt9"
      }
    },
    {
      "cell_type": "code",
      "source": [
        "def read_file_line_by_line(file_path):\n",
        "    \"\"\"Generator function that reads a file and yields each line.\"\"\"\n",
        "    with open(file_path, 'r') as file:  # Open the file in read mode\n",
        "        for line in file:  # Iterate through each line in the file\n",
        "            yield line.strip()  # Yield the line after stripping whitespace/newline\n",
        "\n",
        "# Example usage:\n",
        "# Make sure to have a text file named 'sample.txt' or change the filename accordingly\n",
        "file_path = 'sample.txt'\n",
        "\n",
        "print(\"Lines from the file:\")\n",
        "for line in read_file_line_by_line(file_path):\n",
        "    print(line)  # Will print each line from the file\n"
      ],
      "metadata": {
        "id": "hHub7vD3BMpZ"
      },
      "execution_count": null,
      "outputs": []
    },
    {
      "cell_type": "markdown",
      "source": [
        "Question : Use a lambda function in Python to sort a list of tuples based on the second element of each tuple."
      ],
      "metadata": {
        "id": "tvU7OpDqBPTc"
      }
    },
    {
      "cell_type": "code",
      "source": [
        "# Sample list of tuples\n",
        "tuples_list = [(1, 'banana'), (3, 'apple'), (2, 'cherry')]\n",
        "\n",
        "# Using a lambda function to sort by the second element of each tuple\n",
        "sorted_tuples = sorted(tuples_list, key=lambda x: x[1])\n",
        "\n",
        "# Example usage\n",
        "print(\"Sorted tuples based on the second element:\")\n",
        "print(sorted_tuples)  # Output will show tuples sorted by the fruit names\n"
      ],
      "metadata": {
        "colab": {
          "base_uri": "https://localhost:8080/"
        },
        "id": "DgMMtubDBamD",
        "outputId": "39f4f2f6-3941-4a95-90d7-b3778aa34b09"
      },
      "execution_count": 47,
      "outputs": [
        {
          "output_type": "stream",
          "name": "stdout",
          "text": [
            "Sorted tuples based on the second element:\n",
            "[(3, 'apple'), (1, 'banana'), (2, 'cherry')]\n"
          ]
        }
      ]
    },
    {
      "cell_type": "markdown",
      "source": [],
      "metadata": {
        "id": "xUwTcWF8BmEP"
      }
    }
  ]
}